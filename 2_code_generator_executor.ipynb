{
 "cells": [
  {
   "cell_type": "markdown",
   "metadata": {},
   "source": [
    "# Code generator and executor\n",
    "\n",
    "Apply group chat conversation arquitecture between two agents, a code generator and a code executor, to generate a graph of closing prices of NVIDIA for the past month."
   ]
  },
  {
   "cell_type": "markdown",
   "metadata": {},
   "source": [
    "### Setup"
   ]
  },
  {
   "cell_type": "code",
   "execution_count": 25,
   "metadata": {},
   "outputs": [],
   "source": [
    "# Import all necessary packages\n",
    "from autogen_ext.models.openai import AzureOpenAIChatCompletionClient\n",
    "from autogen_agentchat.agents import AssistantAgent\n",
    "from autogen_ext.code_executors.jupyter import JupyterCodeExecutor\n",
    "from autogen_core.code_executor import CodeBlock\n",
    "from autogen_core import CancellationToken\n",
    "from dotenv import load_dotenv\n",
    "import os"
   ]
  },
  {
   "cell_type": "code",
   "execution_count": 26,
   "metadata": {},
   "outputs": [],
   "source": [
    "# Load .env file\n",
    "load_dotenv(override=True)\n",
    "\n",
    "# Get environment variables\n",
    "openai_key = os.getenv(\"OPENAI_KEY\")\n",
    "openai_endpoint = os.getenv(\"OPENAI_ENDPOINT\")"
   ]
  },
  {
   "cell_type": "code",
   "execution_count": 27,
   "metadata": {},
   "outputs": [],
   "source": [
    "# Create Azure OpenAI Client\n",
    "az_model_client = AzureOpenAIChatCompletionClient(\n",
    "    azure_deployment=\"gpt-4o\",\n",
    "    model=\"gpt-4o\",\n",
    "    api_version=\"2024-06-01\",\n",
    "    azure_endpoint=openai_endpoint,\n",
    "    api_key=openai_key\n",
    ")"
   ]
  },
  {
   "cell_type": "markdown",
   "metadata": {},
   "source": [
    "### Define the task"
   ]
  },
  {
   "cell_type": "code",
   "execution_count": null,
   "metadata": {},
   "outputs": [],
   "source": [
    "import datetime\n",
    "\n",
    "today = datetime.datetime.now().date()\n",
    "task = f\"Today is {today}. \"\\\n",
    "\"Fetch the closing prices of NVDA for the past month and plot them. \"\\\n",
    "\"Save the figure as nvda_price_plot.png.\"\\\n",
    "\"Use alpha-vantage python library to access data, this is the necesary API key: C33RNYMS3ANCK3OL\""
   ]
  },
  {
   "cell_type": "markdown",
   "metadata": {},
   "source": [
    "### Define code execution tools"
   ]
  },
  {
   "cell_type": "code",
   "execution_count": 29,
   "metadata": {},
   "outputs": [],
   "source": [
    "async def install_dependencies(code_block:str) -> str:\n",
    "    async with JupyterCodeExecutor() as executor:\n",
    "        cancel_token = CancellationToken()\n",
    "        code_blocks = [CodeBlock(code=code_block, language=\"sh\")]\n",
    "        code_result = await executor.execute_code_blocks(code_blocks, cancel_token)\n",
    "        print(code_result)\n",
    "\n",
    "        return code_result\n",
    "    \n",
    "async def execute_code(code_block:str) -> str:\n",
    "    async with JupyterCodeExecutor() as executor:\n",
    "        cancel_token = CancellationToken()\n",
    "        code_blocks = [CodeBlock(code=code_block, language=\"python\")]\n",
    "        code_result = await executor.execute_code_blocks(code_blocks, cancel_token)\n",
    "        print(code_result)\n",
    "\n",
    "        return code_result"
   ]
  },
  {
   "cell_type": "markdown",
   "metadata": {},
   "source": [
    "### Define group of agents"
   ]
  },
  {
   "cell_type": "code",
   "execution_count": 30,
   "metadata": {},
   "outputs": [],
   "source": [
    "engineer = AssistantAgent(\n",
    "    name=\"Engineer\",\n",
    "    description = \"An engineer that writes code to acomplish a task.\",\n",
    "    system_message=\"\"\"You are a coder. You write code to acomplish a task.\n",
    "    Only write python code and nothing else.\n",
    "    Put attention to previous errors, rewrite your code avoding the same mistakes.\n",
    "    Check if CodeExecutor agent has executed the code correctly, if so, return only 'TERMINATE'.\"\"\",\n",
    "    model_client=az_model_client,\n",
    ")\n",
    "\n",
    "code_executor = AssistantAgent(\n",
    "    name=\"CodeExecutor\",\n",
    "    system_message=\"\"\"You are a code executor, you execute the code Engineer passes to you.\n",
    "    \n",
    "    First, you always check if there is any dependencies on the code the engineer generates, and use install_dependencies tool to install that dependencies.\n",
    "    For example: '''pip install numpy'''\n",
    "\n",
    "    Then, use execute_code tool to execute code.\n",
    "    For example: '''print('Hello world')'''\n",
    "    \"\"\",\n",
    "    model_client=az_model_client,\n",
    "    tools=[install_dependencies, execute_code]\n",
    ")"
   ]
  },
  {
   "cell_type": "code",
   "execution_count": 33,
   "metadata": {},
   "outputs": [],
   "source": [
    "from autogen_agentchat.teams import RoundRobinGroupChat\n",
    "from autogen_agentchat.conditions import TextMentionTermination, MaxMessageTermination\n",
    "from autogen_agentchat.ui import Console\n",
    "\n",
    "termination = TextMentionTermination(\"TERMINATE\") | MaxMessageTermination(6)\n",
    "team = RoundRobinGroupChat(\n",
    "    [engineer, code_executor],\n",
    "    termination_condition = termination,\n",
    ")"
   ]
  },
  {
   "cell_type": "markdown",
   "metadata": {},
   "source": [
    "### Run team of agents"
   ]
  },
  {
   "cell_type": "code",
   "execution_count": 34,
   "metadata": {},
   "outputs": [
    {
     "name": "stdout",
     "output_type": "stream",
     "text": [
      "---------- user ----------\n"
     ]
    },
    {
     "name": "stdout",
     "output_type": "stream",
     "text": [
      "Today is 2025-02-21. Fetch the closing prices of NVDA for the past month and plot them. Save the figure as nvda_price_plot.png.Use alpha-vantage python library to access data, this is the necesary API key: C33RNYMS3ANCK3OL\n",
      "---------- Engineer ----------\n",
      "```python\n",
      "import matplotlib.pyplot as plt\n",
      "from alpha_vantage.timeseries import TimeSeries\n",
      "import pandas as pd\n",
      "\n",
      "# Alpha Vantage API key\n",
      "api_key = 'C33RNYMS3ANCK3OL'\n",
      "\n",
      "# Initialize TimeSeries with your key\n",
      "ts = TimeSeries(key=api_key, output_format='pandas')\n",
      "\n",
      "# Fetch the daily time series for NVDA\n",
      "data, _ = ts.get_daily(symbol='NVDA', outputsize='full')\n",
      "\n",
      "# Filter data for the past month (assuming today's date is 2025-02-21)\n",
      "data.index = pd.to_datetime(data.index)\n",
      "start_date = '2025-01-21'\n",
      "end_date = '2025-02-21'\n",
      "data_past_month = data.loc[start_date:end_date]\n",
      "\n",
      "# Plot the closing prices\n",
      "plt.figure(figsize=(10, 6))\n",
      "plt.plot(data_past_month.index, data_past_month['4. close'], label='Closing Price', color='b', alpha=0.7)\n",
      "plt.title('NVDA Closing Prices for the Past Month')\n",
      "plt.xlabel('Date')\n",
      "plt.ylabel('Price (USD)')\n",
      "plt.xticks(rotation=45)\n",
      "plt.grid(True)\n",
      "plt.tight_layout()\n",
      "plt.savefig('nvda_price_plot.png')\n",
      "plt.close()\n",
      "```\n",
      "---------- CodeExecutor ----------\n",
      "[FunctionCall(id='call_9f65FeFAtcsRBaKhJI9RYPqU', arguments='{\"code_block\":\"import matplotlib.pyplot as plt\\\\nfrom alpha_vantage.timeseries import TimeSeries\\\\nimport pandas as pd\\\\n\\\\n# Alpha Vantage API key\\\\napi_key = \\'C33RNYMS3ANCK3OL\\'\\\\n\\\\n# Initialize TimeSeries with your key\\\\nts = TimeSeries(key=api_key, output_format=\\'pandas\\')\\\\n\\\\n# Fetch the daily time series for NVDA\\\\ndata, _ = ts.get_daily(symbol=\\'NVDA\\', outputsize=\\'full\\')\\\\n\\\\n# Filter data for the past month (assuming today\\'s date is 2025-02-21)\\\\ndata.index = pd.to_datetime(data.index)\\\\nstart_date = \\'2025-01-21\\'\\\\nend_date = \\'2025-02-21\\'\\\\ndata_past_month = data.loc[start_date:end_date]\\\\n\\\\n# Plot the closing prices\\\\nplt.figure(figsize=(10, 6))\\\\nplt.plot(data_past_month.index, data_past_month[\\'4. close\\'], label=\\'Closing Price\\', color=\\'b\\', alpha=0.7)\\\\nplt.title(\\'NVDA Closing Prices for the Past Month\\')\\\\nplt.xlabel(\\'Date\\')\\\\nplt.ylabel(\\'Price (USD)\\')\\\\nplt.xticks(rotation=45)\\\\nplt.grid(True)\\\\nplt.tight_layout()\\\\nplt.savefig(\\'nvda_price_plot.png\\')\\\\nplt.close()\"}', name='execute_code')]\n",
      "JupyterCodeResult(exit_code=1, output='---------------------------------------------------------------------------\\nKeyError                                  Traceback (most recent call last)\\nCell In[1], line 18\\n     16 start_date = \\'2025-01-21\\'\\n     17 end_date = \\'2025-02-21\\'\\n---> 18 data_past_month = data.loc[start_date:end_date]\\n     20 # Plot the closing prices\\n     21 plt.figure(figsize=(10, 6))\\n\\nFile c:\\\\Users\\\\m.arias.gutierrez\\\\AppData\\\\Local\\\\anaconda3\\\\envs\\\\autogen_env\\\\Lib\\\\site-packages\\\\pandas\\\\core\\\\indexing.py:1191, in _LocationIndexer.__getitem__(self, key)\\n   1189 maybe_callable = com.apply_if_callable(key, self.obj)\\n   1190 maybe_callable = self._check_deprecated_callable_usage(key, maybe_callable)\\n-> 1191 return self._getitem_axis(maybe_callable, axis=axis)\\n\\nFile c:\\\\Users\\\\m.arias.gutierrez\\\\AppData\\\\Local\\\\anaconda3\\\\envs\\\\autogen_env\\\\Lib\\\\site-packages\\\\pandas\\\\core\\\\indexing.py:1411, in _LocIndexer._getitem_axis(self, key, axis)\\n   1409 if isinstance(key, slice):\\n   1410     self._validate_key(key, axis)\\n-> 1411     return self._get_slice_axis(key, axis=axis)\\n   1412 elif com.is_bool_indexer(key):\\n   1413     return self._getbool_axis(key, axis=axis)\\n\\nFile c:\\\\Users\\\\m.arias.gutierrez\\\\AppData\\\\Local\\\\anaconda3\\\\envs\\\\autogen_env\\\\Lib\\\\site-packages\\\\pandas\\\\core\\\\indexing.py:1443, in _LocIndexer._get_slice_axis(self, slice_obj, axis)\\n   1440     return obj.copy(deep=False)\\n   1442 labels = obj._get_axis(axis)\\n-> 1443 indexer = labels.slice_indexer(slice_obj.start, slice_obj.stop, slice_obj.step)\\n   1445 if isinstance(indexer, slice):\\n   1446     return self.obj._slice(indexer, axis=axis)\\n\\nFile c:\\\\Users\\\\m.arias.gutierrez\\\\AppData\\\\Local\\\\anaconda3\\\\envs\\\\autogen_env\\\\Lib\\\\site-packages\\\\pandas\\\\core\\\\indexes\\\\datetimes.py:697, in DatetimeIndex.slice_indexer(self, start, end, step)\\n    694     in_index &= (end_casted == self).any()\\n    696 if not in_index:\\n--> 697     raise KeyError(\\n    698         \"Value based partial slicing on non-monotonic DatetimeIndexes \"\\n    699         \"with non-existing keys is not allowed.\",\\n    700     )\\n    701 indexer = mask.nonzero()[0][::step]\\n    702 if len(indexer) == len(self):\\n\\nKeyError: \\'Value based partial slicing on non-monotonic DatetimeIndexes with non-existing keys is not allowed.\\'', output_files=[])\n",
      "---------- CodeExecutor ----------\n",
      "[FunctionExecutionResult(content='JupyterCodeResult(exit_code=1, output=\\'---------------------------------------------------------------------------\\\\nKeyError                                  Traceback (most recent call last)\\\\nCell In[1], line 18\\\\n     16 start_date = \\\\\\'2025-01-21\\\\\\'\\\\n     17 end_date = \\\\\\'2025-02-21\\\\\\'\\\\n---> 18 data_past_month = data.loc[start_date:end_date]\\\\n     20 # Plot the closing prices\\\\n     21 plt.figure(figsize=(10, 6))\\\\n\\\\nFile c:\\\\\\\\Users\\\\\\\\m.arias.gutierrez\\\\\\\\AppData\\\\\\\\Local\\\\\\\\anaconda3\\\\\\\\envs\\\\\\\\autogen_env\\\\\\\\Lib\\\\\\\\site-packages\\\\\\\\pandas\\\\\\\\core\\\\\\\\indexing.py:1191, in _LocationIndexer.__getitem__(self, key)\\\\n   1189 maybe_callable = com.apply_if_callable(key, self.obj)\\\\n   1190 maybe_callable = self._check_deprecated_callable_usage(key, maybe_callable)\\\\n-> 1191 return self._getitem_axis(maybe_callable, axis=axis)\\\\n\\\\nFile c:\\\\\\\\Users\\\\\\\\m.arias.gutierrez\\\\\\\\AppData\\\\\\\\Local\\\\\\\\anaconda3\\\\\\\\envs\\\\\\\\autogen_env\\\\\\\\Lib\\\\\\\\site-packages\\\\\\\\pandas\\\\\\\\core\\\\\\\\indexing.py:1411, in _LocIndexer._getitem_axis(self, key, axis)\\\\n   1409 if isinstance(key, slice):\\\\n   1410     self._validate_key(key, axis)\\\\n-> 1411     return self._get_slice_axis(key, axis=axis)\\\\n   1412 elif com.is_bool_indexer(key):\\\\n   1413     return self._getbool_axis(key, axis=axis)\\\\n\\\\nFile c:\\\\\\\\Users\\\\\\\\m.arias.gutierrez\\\\\\\\AppData\\\\\\\\Local\\\\\\\\anaconda3\\\\\\\\envs\\\\\\\\autogen_env\\\\\\\\Lib\\\\\\\\site-packages\\\\\\\\pandas\\\\\\\\core\\\\\\\\indexing.py:1443, in _LocIndexer._get_slice_axis(self, slice_obj, axis)\\\\n   1440     return obj.copy(deep=False)\\\\n   1442 labels = obj._get_axis(axis)\\\\n-> 1443 indexer = labels.slice_indexer(slice_obj.start, slice_obj.stop, slice_obj.step)\\\\n   1445 if isinstance(indexer, slice):\\\\n   1446     return self.obj._slice(indexer, axis=axis)\\\\n\\\\nFile c:\\\\\\\\Users\\\\\\\\m.arias.gutierrez\\\\\\\\AppData\\\\\\\\Local\\\\\\\\anaconda3\\\\\\\\envs\\\\\\\\autogen_env\\\\\\\\Lib\\\\\\\\site-packages\\\\\\\\pandas\\\\\\\\core\\\\\\\\indexes\\\\\\\\datetimes.py:697, in DatetimeIndex.slice_indexer(self, start, end, step)\\\\n    694     in_index &= (end_casted == self).any()\\\\n    696 if not in_index:\\\\n--> 697     raise KeyError(\\\\n    698         \"Value based partial slicing on non-monotonic DatetimeIndexes \"\\\\n    699         \"with non-existing keys is not allowed.\",\\\\n    700     )\\\\n    701 indexer = mask.nonzero()[0][::step]\\\\n    702 if len(indexer) == len(self):\\\\n\\\\nKeyError: \\\\\\'Value based partial slicing on non-monotonic DatetimeIndexes with non-existing keys is not allowed.\\\\\\'\\', output_files=[])', call_id='call_9f65FeFAtcsRBaKhJI9RYPqU', is_error=False)]\n",
      "---------- CodeExecutor ----------\n",
      "JupyterCodeResult(exit_code=1, output='---------------------------------------------------------------------------\\nKeyError                                  Traceback (most recent call last)\\nCell In[1], line 18\\n     16 start_date = \\'2025-01-21\\'\\n     17 end_date = \\'2025-02-21\\'\\n---> 18 data_past_month = data.loc[start_date:end_date]\\n     20 # Plot the closing prices\\n     21 plt.figure(figsize=(10, 6))\\n\\nFile c:\\\\Users\\\\m.arias.gutierrez\\\\AppData\\\\Local\\\\anaconda3\\\\envs\\\\autogen_env\\\\Lib\\\\site-packages\\\\pandas\\\\core\\\\indexing.py:1191, in _LocationIndexer.__getitem__(self, key)\\n   1189 maybe_callable = com.apply_if_callable(key, self.obj)\\n   1190 maybe_callable = self._check_deprecated_callable_usage(key, maybe_callable)\\n-> 1191 return self._getitem_axis(maybe_callable, axis=axis)\\n\\nFile c:\\\\Users\\\\m.arias.gutierrez\\\\AppData\\\\Local\\\\anaconda3\\\\envs\\\\autogen_env\\\\Lib\\\\site-packages\\\\pandas\\\\core\\\\indexing.py:1411, in _LocIndexer._getitem_axis(self, key, axis)\\n   1409 if isinstance(key, slice):\\n   1410     self._validate_key(key, axis)\\n-> 1411     return self._get_slice_axis(key, axis=axis)\\n   1412 elif com.is_bool_indexer(key):\\n   1413     return self._getbool_axis(key, axis=axis)\\n\\nFile c:\\\\Users\\\\m.arias.gutierrez\\\\AppData\\\\Local\\\\anaconda3\\\\envs\\\\autogen_env\\\\Lib\\\\site-packages\\\\pandas\\\\core\\\\indexing.py:1443, in _LocIndexer._get_slice_axis(self, slice_obj, axis)\\n   1440     return obj.copy(deep=False)\\n   1442 labels = obj._get_axis(axis)\\n-> 1443 indexer = labels.slice_indexer(slice_obj.start, slice_obj.stop, slice_obj.step)\\n   1445 if isinstance(indexer, slice):\\n   1446     return self.obj._slice(indexer, axis=axis)\\n\\nFile c:\\\\Users\\\\m.arias.gutierrez\\\\AppData\\\\Local\\\\anaconda3\\\\envs\\\\autogen_env\\\\Lib\\\\site-packages\\\\pandas\\\\core\\\\indexes\\\\datetimes.py:697, in DatetimeIndex.slice_indexer(self, start, end, step)\\n    694     in_index &= (end_casted == self).any()\\n    696 if not in_index:\\n--> 697     raise KeyError(\\n    698         \"Value based partial slicing on non-monotonic DatetimeIndexes \"\\n    699         \"with non-existing keys is not allowed.\",\\n    700     )\\n    701 indexer = mask.nonzero()[0][::step]\\n    702 if len(indexer) == len(self):\\n\\nKeyError: \\'Value based partial slicing on non-monotonic DatetimeIndexes with non-existing keys is not allowed.\\'', output_files=[])\n",
      "---------- Engineer ----------\n",
      "```python\n",
      "import matplotlib.pyplot as plt\n",
      "from alpha_vantage.timeseries import TimeSeries\n",
      "import pandas as pd\n",
      "\n",
      "# Alpha Vantage API key\n",
      "api_key = 'C33RNYMS3ANCK3OL'\n",
      "\n",
      "# Initialize TimeSeries with your key\n",
      "ts = TimeSeries(key=api_key, output_format='pandas')\n",
      "\n",
      "# Fetch the daily time series for NVDA\n",
      "data, _ = ts.get_daily(symbol='NVDA', outputsize='full')\n",
      "\n",
      "# Ensure the index is sorted\n",
      "data.sort_index(inplace=True)\n",
      "\n",
      "# Filter data for the past month (assuming today's date is 2025-02-21)\n",
      "data.index = pd.to_datetime(data.index)\n",
      "start_date = '2025-01-21'\n",
      "end_date = '2025-02-21'\n",
      "data_past_month = data.loc[start_date:end_date]\n",
      "\n",
      "# Plot the closing prices\n",
      "plt.figure(figsize=(10, 6))\n",
      "plt.plot(data_past_month.index, data_past_month['4. close'], label='Closing Price', color='b', alpha=0.7)\n",
      "plt.title('NVDA Closing Prices for the Past Month')\n",
      "plt.xlabel('Date')\n",
      "plt.ylabel('Price (USD)')\n",
      "plt.xticks(rotation=45)\n",
      "plt.grid(True)\n",
      "plt.tight_layout()\n",
      "plt.savefig('nvda_price_plot.png')\n",
      "plt.close()\n",
      "```\n",
      "---------- CodeExecutor ----------\n",
      "[FunctionCall(id='call_Y5MEw5pvPn4HkL09aEOmfa8q', arguments='{\"code_block\":\"import matplotlib.pyplot as plt\\\\nfrom alpha_vantage.timeseries import TimeSeries\\\\nimport pandas as pd\\\\n\\\\n# Alpha Vantage API key\\\\napi_key = \\'C33RNYMS3ANCK3OL\\'\\\\n\\\\n# Initialize TimeSeries with your key\\\\nts = TimeSeries(key=api_key, output_format=\\'pandas\\')\\\\n\\\\n# Fetch the daily time series for NVDA\\\\ndata, _ = ts.get_daily(symbol=\\'NVDA\\', outputsize=\\'full\\')\\\\n\\\\n# Ensure the index is sorted\\\\ndata.sort_index(inplace=True)\\\\n\\\\n# Filter data for the past month (assuming today\\'s date is 2025-02-21)\\\\ndata.index = pd.to_datetime(data.index)\\\\nstart_date = \\'2025-01-21\\'\\\\nend_date = \\'2025-02-21\\'\\\\ndata_past_month = data.loc[start_date:end_date]\\\\n\\\\n# Plot the closing prices\\\\nplt.figure(figsize=(10, 6))\\\\nplt.plot(data_past_month.index, data_past_month[\\'4. close\\'], label=\\'Closing Price\\', color=\\'b\\', alpha=0.7)\\\\nplt.title(\\'NVDA Closing Prices for the Past Month\\')\\\\nplt.xlabel(\\'Date\\')\\\\nplt.ylabel(\\'Price (USD)\\')\\\\nplt.xticks(rotation=45)\\\\nplt.grid(True)\\\\nplt.tight_layout()\\\\nplt.savefig(\\'nvda_price_plot.png\\')\\\\nplt.close()\"}', name='execute_code')]\n",
      "JupyterCodeResult(exit_code=0, output='', output_files=[])\n",
      "---------- CodeExecutor ----------\n",
      "[FunctionExecutionResult(content=\"JupyterCodeResult(exit_code=0, output='', output_files=[])\", call_id='call_Y5MEw5pvPn4HkL09aEOmfa8q', is_error=False)]\n",
      "---------- CodeExecutor ----------\n",
      "JupyterCodeResult(exit_code=0, output='', output_files=[])\n",
      "---------- Engineer ----------\n",
      "TERMINATE\n"
     ]
    },
    {
     "data": {
      "text/plain": [
       "TaskResult(messages=[TextMessage(source='user', models_usage=None, content='Today is 2025-02-21. Fetch the closing prices of NVDA for the past month and plot them. Save the figure as nvda_price_plot.png.Use alpha-vantage python library to access data, this is the necesary API key: C33RNYMS3ANCK3OL', type='TextMessage'), TextMessage(source='Engineer', models_usage=RequestUsage(prompt_tokens=769, completion_tokens=258), content=\"```python\\nimport matplotlib.pyplot as plt\\nfrom alpha_vantage.timeseries import TimeSeries\\nimport pandas as pd\\n\\n# Alpha Vantage API key\\napi_key = 'C33RNYMS3ANCK3OL'\\n\\n# Initialize TimeSeries with your key\\nts = TimeSeries(key=api_key, output_format='pandas')\\n\\n# Fetch the daily time series for NVDA\\ndata, _ = ts.get_daily(symbol='NVDA', outputsize='full')\\n\\n# Filter data for the past month (assuming today's date is 2025-02-21)\\ndata.index = pd.to_datetime(data.index)\\nstart_date = '2025-01-21'\\nend_date = '2025-02-21'\\ndata_past_month = data.loc[start_date:end_date]\\n\\n# Plot the closing prices\\nplt.figure(figsize=(10, 6))\\nplt.plot(data_past_month.index, data_past_month['4. close'], label='Closing Price', color='b', alpha=0.7)\\nplt.title('NVDA Closing Prices for the Past Month')\\nplt.xlabel('Date')\\nplt.ylabel('Price (USD)')\\nplt.xticks(rotation=45)\\nplt.grid(True)\\nplt.tight_layout()\\nplt.savefig('nvda_price_plot.png')\\nplt.close()\\n```\", type='TextMessage'), ToolCallRequestEvent(source='CodeExecutor', models_usage=RequestUsage(prompt_tokens=866, completion_tokens=296), content=[FunctionCall(id='call_9f65FeFAtcsRBaKhJI9RYPqU', arguments='{\"code_block\":\"import matplotlib.pyplot as plt\\\\nfrom alpha_vantage.timeseries import TimeSeries\\\\nimport pandas as pd\\\\n\\\\n# Alpha Vantage API key\\\\napi_key = \\'C33RNYMS3ANCK3OL\\'\\\\n\\\\n# Initialize TimeSeries with your key\\\\nts = TimeSeries(key=api_key, output_format=\\'pandas\\')\\\\n\\\\n# Fetch the daily time series for NVDA\\\\ndata, _ = ts.get_daily(symbol=\\'NVDA\\', outputsize=\\'full\\')\\\\n\\\\n# Filter data for the past month (assuming today\\'s date is 2025-02-21)\\\\ndata.index = pd.to_datetime(data.index)\\\\nstart_date = \\'2025-01-21\\'\\\\nend_date = \\'2025-02-21\\'\\\\ndata_past_month = data.loc[start_date:end_date]\\\\n\\\\n# Plot the closing prices\\\\nplt.figure(figsize=(10, 6))\\\\nplt.plot(data_past_month.index, data_past_month[\\'4. close\\'], label=\\'Closing Price\\', color=\\'b\\', alpha=0.7)\\\\nplt.title(\\'NVDA Closing Prices for the Past Month\\')\\\\nplt.xlabel(\\'Date\\')\\\\nplt.ylabel(\\'Price (USD)\\')\\\\nplt.xticks(rotation=45)\\\\nplt.grid(True)\\\\nplt.tight_layout()\\\\nplt.savefig(\\'nvda_price_plot.png\\')\\\\nplt.close()\"}', name='execute_code')], type='ToolCallRequestEvent'), ToolCallExecutionEvent(source='CodeExecutor', models_usage=None, content=[FunctionExecutionResult(content='JupyterCodeResult(exit_code=1, output=\\'---------------------------------------------------------------------------\\\\nKeyError                                  Traceback (most recent call last)\\\\nCell In[1], line 18\\\\n     16 start_date = \\\\\\'2025-01-21\\\\\\'\\\\n     17 end_date = \\\\\\'2025-02-21\\\\\\'\\\\n---> 18 data_past_month = data.loc[start_date:end_date]\\\\n     20 # Plot the closing prices\\\\n     21 plt.figure(figsize=(10, 6))\\\\n\\\\nFile c:\\\\\\\\Users\\\\\\\\m.arias.gutierrez\\\\\\\\AppData\\\\\\\\Local\\\\\\\\anaconda3\\\\\\\\envs\\\\\\\\autogen_env\\\\\\\\Lib\\\\\\\\site-packages\\\\\\\\pandas\\\\\\\\core\\\\\\\\indexing.py:1191, in _LocationIndexer.__getitem__(self, key)\\\\n   1189 maybe_callable = com.apply_if_callable(key, self.obj)\\\\n   1190 maybe_callable = self._check_deprecated_callable_usage(key, maybe_callable)\\\\n-> 1191 return self._getitem_axis(maybe_callable, axis=axis)\\\\n\\\\nFile c:\\\\\\\\Users\\\\\\\\m.arias.gutierrez\\\\\\\\AppData\\\\\\\\Local\\\\\\\\anaconda3\\\\\\\\envs\\\\\\\\autogen_env\\\\\\\\Lib\\\\\\\\site-packages\\\\\\\\pandas\\\\\\\\core\\\\\\\\indexing.py:1411, in _LocIndexer._getitem_axis(self, key, axis)\\\\n   1409 if isinstance(key, slice):\\\\n   1410     self._validate_key(key, axis)\\\\n-> 1411     return self._get_slice_axis(key, axis=axis)\\\\n   1412 elif com.is_bool_indexer(key):\\\\n   1413     return self._getbool_axis(key, axis=axis)\\\\n\\\\nFile c:\\\\\\\\Users\\\\\\\\m.arias.gutierrez\\\\\\\\AppData\\\\\\\\Local\\\\\\\\anaconda3\\\\\\\\envs\\\\\\\\autogen_env\\\\\\\\Lib\\\\\\\\site-packages\\\\\\\\pandas\\\\\\\\core\\\\\\\\indexing.py:1443, in _LocIndexer._get_slice_axis(self, slice_obj, axis)\\\\n   1440     return obj.copy(deep=False)\\\\n   1442 labels = obj._get_axis(axis)\\\\n-> 1443 indexer = labels.slice_indexer(slice_obj.start, slice_obj.stop, slice_obj.step)\\\\n   1445 if isinstance(indexer, slice):\\\\n   1446     return self.obj._slice(indexer, axis=axis)\\\\n\\\\nFile c:\\\\\\\\Users\\\\\\\\m.arias.gutierrez\\\\\\\\AppData\\\\\\\\Local\\\\\\\\anaconda3\\\\\\\\envs\\\\\\\\autogen_env\\\\\\\\Lib\\\\\\\\site-packages\\\\\\\\pandas\\\\\\\\core\\\\\\\\indexes\\\\\\\\datetimes.py:697, in DatetimeIndex.slice_indexer(self, start, end, step)\\\\n    694     in_index &= (end_casted == self).any()\\\\n    696 if not in_index:\\\\n--> 697     raise KeyError(\\\\n    698         \"Value based partial slicing on non-monotonic DatetimeIndexes \"\\\\n    699         \"with non-existing keys is not allowed.\",\\\\n    700     )\\\\n    701 indexer = mask.nonzero()[0][::step]\\\\n    702 if len(indexer) == len(self):\\\\n\\\\nKeyError: \\\\\\'Value based partial slicing on non-monotonic DatetimeIndexes with non-existing keys is not allowed.\\\\\\'\\', output_files=[])', call_id='call_9f65FeFAtcsRBaKhJI9RYPqU', is_error=False)], type='ToolCallExecutionEvent'), ToolCallSummaryMessage(source='CodeExecutor', models_usage=None, content='JupyterCodeResult(exit_code=1, output=\\'---------------------------------------------------------------------------\\\\nKeyError                                  Traceback (most recent call last)\\\\nCell In[1], line 18\\\\n     16 start_date = \\\\\\'2025-01-21\\\\\\'\\\\n     17 end_date = \\\\\\'2025-02-21\\\\\\'\\\\n---> 18 data_past_month = data.loc[start_date:end_date]\\\\n     20 # Plot the closing prices\\\\n     21 plt.figure(figsize=(10, 6))\\\\n\\\\nFile c:\\\\\\\\Users\\\\\\\\m.arias.gutierrez\\\\\\\\AppData\\\\\\\\Local\\\\\\\\anaconda3\\\\\\\\envs\\\\\\\\autogen_env\\\\\\\\Lib\\\\\\\\site-packages\\\\\\\\pandas\\\\\\\\core\\\\\\\\indexing.py:1191, in _LocationIndexer.__getitem__(self, key)\\\\n   1189 maybe_callable = com.apply_if_callable(key, self.obj)\\\\n   1190 maybe_callable = self._check_deprecated_callable_usage(key, maybe_callable)\\\\n-> 1191 return self._getitem_axis(maybe_callable, axis=axis)\\\\n\\\\nFile c:\\\\\\\\Users\\\\\\\\m.arias.gutierrez\\\\\\\\AppData\\\\\\\\Local\\\\\\\\anaconda3\\\\\\\\envs\\\\\\\\autogen_env\\\\\\\\Lib\\\\\\\\site-packages\\\\\\\\pandas\\\\\\\\core\\\\\\\\indexing.py:1411, in _LocIndexer._getitem_axis(self, key, axis)\\\\n   1409 if isinstance(key, slice):\\\\n   1410     self._validate_key(key, axis)\\\\n-> 1411     return self._get_slice_axis(key, axis=axis)\\\\n   1412 elif com.is_bool_indexer(key):\\\\n   1413     return self._getbool_axis(key, axis=axis)\\\\n\\\\nFile c:\\\\\\\\Users\\\\\\\\m.arias.gutierrez\\\\\\\\AppData\\\\\\\\Local\\\\\\\\anaconda3\\\\\\\\envs\\\\\\\\autogen_env\\\\\\\\Lib\\\\\\\\site-packages\\\\\\\\pandas\\\\\\\\core\\\\\\\\indexing.py:1443, in _LocIndexer._get_slice_axis(self, slice_obj, axis)\\\\n   1440     return obj.copy(deep=False)\\\\n   1442 labels = obj._get_axis(axis)\\\\n-> 1443 indexer = labels.slice_indexer(slice_obj.start, slice_obj.stop, slice_obj.step)\\\\n   1445 if isinstance(indexer, slice):\\\\n   1446     return self.obj._slice(indexer, axis=axis)\\\\n\\\\nFile c:\\\\\\\\Users\\\\\\\\m.arias.gutierrez\\\\\\\\AppData\\\\\\\\Local\\\\\\\\anaconda3\\\\\\\\envs\\\\\\\\autogen_env\\\\\\\\Lib\\\\\\\\site-packages\\\\\\\\pandas\\\\\\\\core\\\\\\\\indexes\\\\\\\\datetimes.py:697, in DatetimeIndex.slice_indexer(self, start, end, step)\\\\n    694     in_index &= (end_casted == self).any()\\\\n    696 if not in_index:\\\\n--> 697     raise KeyError(\\\\n    698         \"Value based partial slicing on non-monotonic DatetimeIndexes \"\\\\n    699         \"with non-existing keys is not allowed.\",\\\\n    700     )\\\\n    701 indexer = mask.nonzero()[0][::step]\\\\n    702 if len(indexer) == len(self):\\\\n\\\\nKeyError: \\\\\\'Value based partial slicing on non-monotonic DatetimeIndexes with non-existing keys is not allowed.\\\\\\'\\', output_files=[])', type='ToolCallSummaryMessage'), TextMessage(source='Engineer', models_usage=RequestUsage(prompt_tokens=1746, completion_tokens=271), content=\"```python\\nimport matplotlib.pyplot as plt\\nfrom alpha_vantage.timeseries import TimeSeries\\nimport pandas as pd\\n\\n# Alpha Vantage API key\\napi_key = 'C33RNYMS3ANCK3OL'\\n\\n# Initialize TimeSeries with your key\\nts = TimeSeries(key=api_key, output_format='pandas')\\n\\n# Fetch the daily time series for NVDA\\ndata, _ = ts.get_daily(symbol='NVDA', outputsize='full')\\n\\n# Ensure the index is sorted\\ndata.sort_index(inplace=True)\\n\\n# Filter data for the past month (assuming today's date is 2025-02-21)\\ndata.index = pd.to_datetime(data.index)\\nstart_date = '2025-01-21'\\nend_date = '2025-02-21'\\ndata_past_month = data.loc[start_date:end_date]\\n\\n# Plot the closing prices\\nplt.figure(figsize=(10, 6))\\nplt.plot(data_past_month.index, data_past_month['4. close'], label='Closing Price', color='b', alpha=0.7)\\nplt.title('NVDA Closing Prices for the Past Month')\\nplt.xlabel('Date')\\nplt.ylabel('Price (USD)')\\nplt.xticks(rotation=45)\\nplt.grid(True)\\nplt.tight_layout()\\nplt.savefig('nvda_price_plot.png')\\nplt.close()\\n```\", type='TextMessage'), ToolCallRequestEvent(source='CodeExecutor', models_usage=RequestUsage(prompt_tokens=2156, completion_tokens=311), content=[FunctionCall(id='call_Y5MEw5pvPn4HkL09aEOmfa8q', arguments='{\"code_block\":\"import matplotlib.pyplot as plt\\\\nfrom alpha_vantage.timeseries import TimeSeries\\\\nimport pandas as pd\\\\n\\\\n# Alpha Vantage API key\\\\napi_key = \\'C33RNYMS3ANCK3OL\\'\\\\n\\\\n# Initialize TimeSeries with your key\\\\nts = TimeSeries(key=api_key, output_format=\\'pandas\\')\\\\n\\\\n# Fetch the daily time series for NVDA\\\\ndata, _ = ts.get_daily(symbol=\\'NVDA\\', outputsize=\\'full\\')\\\\n\\\\n# Ensure the index is sorted\\\\ndata.sort_index(inplace=True)\\\\n\\\\n# Filter data for the past month (assuming today\\'s date is 2025-02-21)\\\\ndata.index = pd.to_datetime(data.index)\\\\nstart_date = \\'2025-01-21\\'\\\\nend_date = \\'2025-02-21\\'\\\\ndata_past_month = data.loc[start_date:end_date]\\\\n\\\\n# Plot the closing prices\\\\nplt.figure(figsize=(10, 6))\\\\nplt.plot(data_past_month.index, data_past_month[\\'4. close\\'], label=\\'Closing Price\\', color=\\'b\\', alpha=0.7)\\\\nplt.title(\\'NVDA Closing Prices for the Past Month\\')\\\\nplt.xlabel(\\'Date\\')\\\\nplt.ylabel(\\'Price (USD)\\')\\\\nplt.xticks(rotation=45)\\\\nplt.grid(True)\\\\nplt.tight_layout()\\\\nplt.savefig(\\'nvda_price_plot.png\\')\\\\nplt.close()\"}', name='execute_code')], type='ToolCallRequestEvent'), ToolCallExecutionEvent(source='CodeExecutor', models_usage=None, content=[FunctionExecutionResult(content=\"JupyterCodeResult(exit_code=0, output='', output_files=[])\", call_id='call_Y5MEw5pvPn4HkL09aEOmfa8q', is_error=False)], type='ToolCallExecutionEvent'), ToolCallSummaryMessage(source='CodeExecutor', models_usage=None, content=\"JupyterCodeResult(exit_code=0, output='', output_files=[])\", type='ToolCallSummaryMessage'), TextMessage(source='Engineer', models_usage=RequestUsage(prompt_tokens=2045, completion_tokens=3), content='TERMINATE', type='TextMessage')], stop_reason=\"Text 'TERMINATE' mentioned, Maximum number of messages 6 reached, current message count: 6\")"
      ]
     },
     "execution_count": 34,
     "metadata": {},
     "output_type": "execute_result"
    }
   ],
   "source": [
    "# `run_stream` returns an async generator to stream the intermediate messages.\n",
    "stream = team.run_stream(task=task)\n",
    "# `Console` is a simple UI to display the stream.\n",
    "await Console(stream)"
   ]
  }
 ],
 "metadata": {
  "kernelspec": {
   "display_name": "autogen_env",
   "language": "python",
   "name": "python3"
  },
  "language_info": {
   "codemirror_mode": {
    "name": "ipython",
    "version": 3
   },
   "file_extension": ".py",
   "mimetype": "text/x-python",
   "name": "python",
   "nbconvert_exporter": "python",
   "pygments_lexer": "ipython3",
   "version": "3.11.11"
  }
 },
 "nbformat": 4,
 "nbformat_minor": 2
}
