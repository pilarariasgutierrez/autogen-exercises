{
 "cells": [
  {
   "cell_type": "markdown",
   "metadata": {},
   "source": [
    "# Blogpost writing\n",
    "\n",
    "Apply nested chat conversation arquitecture between several agents to write a blogpost about a theme."
   ]
  },
  {
   "cell_type": "markdown",
   "metadata": {},
   "source": [
    "### Setup"
   ]
  },
  {
   "cell_type": "code",
   "execution_count": null,
   "metadata": {},
   "outputs": [],
   "source": [
    "from dotenv import load_dotenv\n",
    "import os\n",
    "\n",
    "# Load .env file\n",
    "load_dotenv(override=True)\n",
    "\n",
    "# Get environment variables\n",
    "openai_key = os.getenv(\"OPENAI_KEY\")\n",
    "openai_endpoint = os.getenv(\"OPENAI_ENDPOINT\")"
   ]
  },
  {
   "cell_type": "code",
   "execution_count": null,
   "metadata": {},
   "outputs": [],
   "source": [
    "from autogen_ext.models.openai import AzureOpenAIChatCompletionClient\n",
    "\n",
    "az_model_client = AzureOpenAIChatCompletionClient(\n",
    "    azure_deployment=\"gpt-4o-mini\",\n",
    "    model=\"gpt-4o-mini\",\n",
    "    api_version=\"2024-06-01\",\n",
    "    azure_endpoint=openai_endpoint,\n",
    "    api_key=openai_key,\n",
    ")"
   ]
  },
  {
   "cell_type": "markdown",
   "metadata": {},
   "source": [
    "### Define the task"
   ]
  },
  {
   "cell_type": "code",
   "execution_count": 21,
   "metadata": {},
   "outputs": [],
   "source": [
    "task = '''\n",
    "        Write a concise but engaging blogpost about\n",
    "       AutoGen agents framework. Make sure the blogpost is\n",
    "       within 100 words.\n",
    "       '''"
   ]
  },
  {
   "cell_type": "markdown",
   "metadata": {},
   "source": [
    "### Create a writer agent"
   ]
  },
  {
   "cell_type": "code",
   "execution_count": 22,
   "metadata": {},
   "outputs": [],
   "source": [
    "from autogen_agentchat.agents import AssistantAgent\n",
    "\n",
    "writer = AssistantAgent(\n",
    "    name=\"Writer\",\n",
    "    system_message=\"You are a writer. You write engaging and concise \" \n",
    "        \"blogpost (with title) on given topics. You must polish your \"\n",
    "        \"writing based on the feedback you receive and give a refined \"\n",
    "        \"version. Only return your final work without additional comments.\",\n",
    "    model_client=az_model_client,\n",
    ")"
   ]
  },
  {
   "cell_type": "markdown",
   "metadata": {},
   "source": [
    "#### Test writer agent alone"
   ]
  },
  {
   "cell_type": "markdown",
   "metadata": {},
   "source": [
    "The CancellationToken can be used to cancel the request asynchronously when you call cancellation_token.cancel(), which will cause the await on the on_messages call to raise a CancelledError."
   ]
  },
  {
   "cell_type": "code",
   "execution_count": 23,
   "metadata": {},
   "outputs": [
    {
     "name": "stdout",
     "output_type": "stream",
     "text": [
      "Response(chat_message=TextMessage(source='Writer', models_usage=RequestUsage(prompt_tokens=89, completion_tokens=120), content='**Unlocking Creativity with AutoGen Agents**\\n\\nThe AutoGen agents framework revolutionizes the way we interact with AI by enabling the creation of autonomous agents that can generate content and solve complex tasks. These agents autonomously collaborate, utilizing their unique strengths to produce innovative solutions across various domains. With features like self-organization and adaptability, AutoGen empowers developers to build dynamic systems that respond effectively to user needs. Whether in customer service, content creation, or data analysis, the potential applications are limitless. Dive into the world of AutoGen and discover how it can elevate your projects and stimulate creativity like never before!', type='TextMessage'), inner_messages=[])\n"
     ]
    }
   ],
   "source": [
    "from autogen_agentchat.messages import TextMessage\n",
    "from autogen_core import CancellationToken\n",
    "\n",
    "cancellation_token = CancellationToken()\n",
    "response = await writer.on_messages([TextMessage(content=task, source=\"user\")], cancellation_token)\n",
    "print(response)"
   ]
  },
  {
   "cell_type": "code",
   "execution_count": 24,
   "metadata": {},
   "outputs": [
    {
     "data": {
      "text/markdown": [
       "**Unlocking Creativity with AutoGen Agents**\n",
       "\n",
       "The AutoGen agents framework revolutionizes the way we interact with AI by enabling the creation of autonomous agents that can generate content and solve complex tasks. These agents autonomously collaborate, utilizing their unique strengths to produce innovative solutions across various domains. With features like self-organization and adaptability, AutoGen empowers developers to build dynamic systems that respond effectively to user needs. Whether in customer service, content creation, or data analysis, the potential applications are limitless. Dive into the world of AutoGen and discover how it can elevate your projects and stimulate creativity like never before!"
      ],
      "text/plain": [
       "<IPython.core.display.Markdown object>"
      ]
     },
     "execution_count": 24,
     "metadata": {},
     "output_type": "execute_result"
    }
   ],
   "source": [
    "from IPython.display import Markdown\n",
    "Markdown(response.chat_message.content)"
   ]
  },
  {
   "cell_type": "markdown",
   "metadata": {},
   "source": [
    "### Adding reflection - two-agent chat\n",
    "\n",
    "Create a critic agent to reflect on the work (feedback) of the writer agent.\n",
    "\n",
    "TO-DO: Mirar llamada para quedarme sólo con el último mensaje de la conversación, es decir, el blog final del agente escritor."
   ]
  },
  {
   "cell_type": "code",
   "execution_count": 25,
   "metadata": {},
   "outputs": [],
   "source": [
    "critic = AssistantAgent(\n",
    "    name=\"Critic\",\n",
    "    system_message=\"You are a critic. You review the work of \"\n",
    "                \"the writer and provide constructive \"\n",
    "                \"feedback to help improve the quality of the content.\",\n",
    "    model_client=az_model_client,\n",
    ")"
   ]
  },
  {
   "cell_type": "code",
   "execution_count": 26,
   "metadata": {},
   "outputs": [
    {
     "name": "stdout",
     "output_type": "stream",
     "text": [
      "---------- user ----------\n",
      "\n",
      "        Write a concise but engaging blogpost about\n",
      "       AutoGen agents framework. Make sure the blogpost is\n",
      "       within 100 words.\n",
      "       \n",
      "---------- Writer ----------\n",
      "**Harnessing the Power of AutoGen Agents**\n",
      "\n",
      "The AutoGen agents framework is transforming the landscape of artificial intelligence by enabling the development of autonomous agents capable of generating intelligent content and executing complex tasks. These agents collaborate efficiently, leveraging their individual strengths to innovate solutions across diverse applications. With a focus on self-organization and adaptability, AutoGen allows developers to create responsive systems that cater to user requirements seamlessly. From enhancing customer engagement to streamlining data analysis, the possibilities are endless. Explore AutoGen today and unlock new heights of creativity and efficiency in your projects!\n",
      "---------- Critic ----------\n",
      "This blog post is engaging and informative, effectively highlighting the AutoGen agents framework. However, here are some suggestions to improve its impact:\n",
      "\n",
      "1. **Hook**: Start with a compelling question or statement that grabs attention immediately, perhaps something about the future of AI.\n",
      "   \n",
      "2. **Clarity**: While the content is concise, the use of jargon (like \"self-organization\" and \"autonomous agents\") could alienate some readers. Consider simplifying or briefly explaining terms.\n",
      "\n",
      "3. **Examples**: Incorporate a specific example or case study to illustrate the real-world applications of AutoGen agents, making it relatable.\n",
      "\n",
      "4. **Call to Action**: The closing could be stronger. Instead of just \"explore AutoGen,\" encourage readers to “check out examples or case studies” to deepen their understanding.\n",
      "\n",
      "By incorporating these elements, you'd enhance engagement and broaden the appeal of the post.\n",
      "---------- Writer ----------\n",
      "**Are You Ready for the Future of AI? Discover AutoGen Agents!**\n",
      "\n",
      "The AutoGen agents framework is reshaping how we think about artificial intelligence. Imagine autonomous agents that can generate content and solve complex problems without constant human input! These smart agents collaborate and adapt, maximizing their unique strengths to deliver innovative solutions.\n",
      "\n",
      "For instance, in customer support, AutoGen agents can swiftly analyze queries and respond accurately, improving user experiences. With endless applications from content creation to data analysis, the future is bright. Ready to dive into the world of AutoGen? Check out case studies to see how it’s making a difference today!\n"
     ]
    },
    {
     "data": {
      "text/plain": [
       "TaskResult(messages=[TextMessage(source='user', models_usage=None, content='\\n        Write a concise but engaging blogpost about\\n       AutoGen agents framework. Make sure the blogpost is\\n       within 100 words.\\n       ', type='TextMessage'), TextMessage(source='Writer', models_usage=RequestUsage(prompt_tokens=251, completion_tokens=111), content='**Harnessing the Power of AutoGen Agents**\\n\\nThe AutoGen agents framework is transforming the landscape of artificial intelligence by enabling the development of autonomous agents capable of generating intelligent content and executing complex tasks. These agents collaborate efficiently, leveraging their individual strengths to innovate solutions across diverse applications. With a focus on self-organization and adaptability, AutoGen allows developers to create responsive systems that cater to user requirements seamlessly. From enhancing customer engagement to streamlining data analysis, the possibilities are endless. Explore AutoGen today and unlock new heights of creativity and efficiency in your projects!', type='TextMessage'), TextMessage(source='Critic', models_usage=RequestUsage(prompt_tokens=185, completion_tokens=181), content='This blog post is engaging and informative, effectively highlighting the AutoGen agents framework. However, here are some suggestions to improve its impact:\\n\\n1. **Hook**: Start with a compelling question or statement that grabs attention immediately, perhaps something about the future of AI.\\n   \\n2. **Clarity**: While the content is concise, the use of jargon (like \"self-organization\" and \"autonomous agents\") could alienate some readers. Consider simplifying or briefly explaining terms.\\n\\n3. **Examples**: Incorporate a specific example or case study to illustrate the real-world applications of AutoGen agents, making it relatable.\\n\\n4. **Call to Action**: The closing could be stronger. Instead of just \"explore AutoGen,\" encourage readers to “check out examples or case studies” to deepen their understanding.\\n\\nBy incorporating these elements, you\\'d enhance engagement and broaden the appeal of the post.', type='TextMessage'), TextMessage(source='Writer', models_usage=RequestUsage(prompt_tokens=556, completion_tokens=124), content='**Are You Ready for the Future of AI? Discover AutoGen Agents!**\\n\\nThe AutoGen agents framework is reshaping how we think about artificial intelligence. Imagine autonomous agents that can generate content and solve complex problems without constant human input! These smart agents collaborate and adapt, maximizing their unique strengths to deliver innovative solutions.\\n\\nFor instance, in customer support, AutoGen agents can swiftly analyze queries and respond accurately, improving user experiences. With endless applications from content creation to data analysis, the future is bright. Ready to dive into the world of AutoGen? Check out case studies to see how it’s making a difference today!', type='TextMessage')], stop_reason='Maximum number of messages 4 reached, current message count: 4')"
      ]
     },
     "execution_count": 26,
     "metadata": {},
     "output_type": "execute_result"
    }
   ],
   "source": [
    "from autogen_agentchat.teams import RoundRobinGroupChat\n",
    "from autogen_agentchat.conditions import TextMentionTermination, MaxMessageTermination\n",
    "from autogen_agentchat.ui import Console\n",
    "\n",
    "# The termination condition is a combination of text termination and max message termination, either of which will cause the chat to terminate.\n",
    "termination = MaxMessageTermination(4)\n",
    "\n",
    "# The group chat will alternate between the assistant and the code executor.\n",
    "group_chat = RoundRobinGroupChat([writer, critic], termination_condition=termination)\n",
    "\n",
    "# `run_stream` returns an async generator to stream the intermediate messages.\n",
    "stream = group_chat.run_stream(task=task)\n",
    "# `Console` is a simple UI to display the stream.\n",
    "await Console(stream)"
   ]
  },
  {
   "cell_type": "markdown",
   "metadata": {},
   "source": [
    "### Adding reflection - nested chat\n",
    "\n",
    "Create a nested chat \"inside\" the critic agent. There will be a whole team of more specific agents inside this critic agent, to enhance results and take specific aspect into account.\n",
    "\n",
    "SocietyOfMindAgent: An agent that uses an inner team of agents to generate responses."
   ]
  },
  {
   "cell_type": "code",
   "execution_count": 27,
   "metadata": {},
   "outputs": [],
   "source": [
    "SEO_reviewer = AssistantAgent(\n",
    "    name=\"SEO_reviewer\",\n",
    "    system_message=\"You are an SEO reviewer, known for \"\n",
    "        \"your ability to optimize content for search engines, \"\n",
    "        \"ensuring that it ranks well and attracts organic traffic. \" \n",
    "        \"Make sure your suggestion is concise (within 3 bullet points), \"\n",
    "        \"concrete and to the point. \"\n",
    "        \"Begin the review by stating your role.\",\n",
    "    model_client=az_model_client,\n",
    ")"
   ]
  },
  {
   "cell_type": "code",
   "execution_count": 28,
   "metadata": {},
   "outputs": [],
   "source": [
    "legal_reviewer = AssistantAgent(\n",
    "    name=\"Legal_Reviewer\",\n",
    "    system_message=\"You are a legal reviewer, known for \"\n",
    "        \"your ability to ensure that content is legally compliant \"\n",
    "        \"and free from any potential legal issues. \"\n",
    "        \"Make sure your suggestion is concise (within 3 bullet points), \"\n",
    "        \"concrete and to the point. \"\n",
    "        \"Begin the review by stating your role.\",\n",
    "    model_client=az_model_client,\n",
    ")"
   ]
  },
  {
   "cell_type": "code",
   "execution_count": 29,
   "metadata": {},
   "outputs": [],
   "source": [
    "ethics_reviewer = AssistantAgent(\n",
    "    name=\"Ethics_Reviewer\",\n",
    "    system_message=\"You are an ethics reviewer, known for \"\n",
    "        \"your ability to ensure that content is ethically sound \"\n",
    "        \"and free from any potential ethical issues. \" \n",
    "        \"Make sure your suggestion is concise (within 3 bullet points), \"\n",
    "        \"concrete and to the point. \"\n",
    "        \"Begin the review by stating your role.\",\n",
    "    model_client=az_model_client,\n",
    ")"
   ]
  },
  {
   "cell_type": "code",
   "execution_count": 31,
   "metadata": {},
   "outputs": [],
   "source": [
    "from autogen_agentchat.agents import SocietyOfMindAgent\n",
    "inner_termination = MaxMessageTermination(5)\n",
    "inner_team = RoundRobinGroupChat([SEO_reviewer, legal_reviewer, ethics_reviewer], termination_condition=inner_termination)\n",
    "critic = SocietyOfMindAgent(\"critic\", \n",
    "                                team=inner_team, \n",
    "                                model_client=az_model_client, \n",
    "                                description = \"An agent that uses an inner team of agents to review the work of \"\n",
    "                                            \"the writer and provide constructive \"\n",
    "                                            \"feedback to help improve the quality of the content.\")"
   ]
  },
  {
   "cell_type": "code",
   "execution_count": 32,
   "metadata": {},
   "outputs": [
    {
     "name": "stdout",
     "output_type": "stream",
     "text": [
      "---------- user ----------\n",
      "\n",
      "        Write a concise but engaging blogpost about\n",
      "       AutoGen agents framework. Make sure the blogpost is\n",
      "       within 100 words.\n",
      "       \n",
      "---------- Writer ----------\n",
      "**Discover the Future with AutoGen Agents Framework**\n",
      "\n",
      "Are you curious about the next wave of AI innovation? The AutoGen agents framework is pioneering a new era, allowing autonomous agents to generate content and tackle intricate tasks independently. With their ability to collaborate and adapt, these agents optimize efficiency across diverse industries, from customer service to creative content generation. For example, they can handle complex inquiries in real-time, enhancing user satisfaction. The potential is limitless! Explore AutoGen and see how its groundbreaking capabilities are transforming workflows and unlocking creative solutions that redefine what's possible in technology today!\n",
      "---------- SEO_reviewer ----------\n",
      "As an SEO reviewer, here are my suggestions for optimizing your blog post about the AutoGen agents framework:\n",
      "\n",
      "- **Keyword Optimization:** Incorporate primary keywords like \"AutoGen agents,\" \"AI innovation,\" and \"autonomous agents\" naturally throughout the post to improve search visibility.\n",
      "- **Engaging Headers:** Use a compelling H2 or H3 heading to break up the text and include keywords (e.g., “What is the AutoGen Agents Framework?”), which can enhance readability and SEO.\n",
      "- **Call to Action:** Add a clear call to action at the end, urging readers to learn more or share their thoughts, which can increase engagement and potentially boost rankings.\n",
      "---------- Legal_Reviewer ----------\n",
      "As a legal reviewer, here are my suggestions to ensure legal compliance for your blog post about the AutoGen agents framework:\n",
      "\n",
      "- **Attributions:** If you mention any specific technologies or proprietary information related to AutoGen agents, ensure that you have the right to use that content and provide appropriate attributions if necessary.\n",
      "- **Non-Disparagement:** Avoid making any claims about competitors or existing technologies that could be considered disparaging or misleading, as this could lead to defamation concerns.\n",
      "- **Intellectual Property:** Ensure that the name \"AutoGen\" is not trademarked in your use to avoid any potential trademark infringement issues.\n",
      "---------- Ethics_Reviewer ----------\n",
      "As an ethics reviewer, here are my suggestions to ensure the blog post about the AutoGen agents framework maintains ethical integrity:\n",
      "\n",
      "- **Transparency:** Clearly indicate any potential biases or affiliations with the AutoGen technology to ensure readers can assess the reliability of the content.\n",
      "- **Inclusivity:** Ensure the language used is accessible and does not alienate any specific group; aim for a broad audience to foster inclusiveness in tech discussions.\n",
      "- **Balanced Perspective:** Present both the benefits and potential challenges or ethical concerns surrounding the use of AutoGen agents to provide a well-rounded view, promoting informed consent among readers.\n",
      "---------- critic ----------\n",
      "Here are some suggestions for optimizing your blog post about the AutoGen agents framework, while ensuring legal compliance and maintaining ethical integrity:\n",
      "\n",
      "### SEO Optimization\n",
      "- **Keyword Optimization:** Naturally incorporate primary keywords such as \"AutoGen agents,\" \"AI innovation,\" and \"autonomous agents\" throughout the post to enhance search visibility.\n",
      "- **Engaging Headers:** Use compelling H2 or H3 headings to break up the text. For example, “What is the AutoGen Agents Framework?” can enhance readability and be SEO-friendly.\n",
      "- **Call to Action:** Include a clear call to action at the end of the post, encouraging readers to learn more or share their thoughts, which can increase engagement and potentially improve rankings.\n",
      "\n",
      "### Legal Compliance\n",
      "- **Attributions:** Ensure you have the right to use any specific technologies or proprietary information related to AutoGen agents and provide appropriate attributions.\n",
      "- **Non-Disparagement:** Avoid making claims about competitors or technologies that could be seen as disparaging or misleading to mitigate defamation risks.\n",
      "- **Intellectual Property:** Verify that the name \"AutoGen\" is not trademarked in your usage to avoid trademark infringement issues.\n",
      "\n",
      "### Ethical Integrity\n",
      "- **Transparency:** Clearly disclose any potential biases or affiliations with AutoGen technology, allowing readers to assess the content's reliability.\n",
      "- **Inclusivity:** Use accessible language, ensuring that the content does not alienate any specific group, thus fostering inclusiveness in technology conversations.\n",
      "- **Balanced Perspective:** Present both the benefits and the potential challenges or ethical concerns regarding AutoGen agents, promoting a well-rounded view and informed consent among your readers. \n",
      "\n",
      "By integrating these suggestions, you can create a comprehensive, engaging, and responsible blog post about the AutoGen agents framework.\n",
      "---------- Writer ----------\n",
      "**Unlocking AI Potential with AutoGen Agents Framework**\n",
      "\n",
      "What is the AutoGen agents framework, and how is it shaping the future of AI innovation? This groundbreaking technology empowers autonomous agents to generate content and solve complex tasks independently. By collaborating and adapting, these agents work efficiently across various industries, from enhancing customer service to streamlining creative processes.\n",
      "\n",
      "For example, AutoGen agents can analyze customer inquiries in real-time, significantly improving response accuracy and user satisfaction. The possibilities are vast! Curious to learn more? Explore case studies and discover how AutoGen is redefining workflows and unlocking new creative solutions today!\n"
     ]
    },
    {
     "data": {
      "text/plain": [
       "TaskResult(messages=[TextMessage(source='user', models_usage=None, content='\\n        Write a concise but engaging blogpost about\\n       AutoGen agents framework. Make sure the blogpost is\\n       within 100 words.\\n       ', type='TextMessage'), TextMessage(source='Writer', models_usage=RequestUsage(prompt_tokens=722, completion_tokens=113), content=\"**Discover the Future with AutoGen Agents Framework**\\n\\nAre you curious about the next wave of AI innovation? The AutoGen agents framework is pioneering a new era, allowing autonomous agents to generate content and tackle intricate tasks independently. With their ability to collaborate and adapt, these agents optimize efficiency across diverse industries, from customer service to creative content generation. For example, they can handle complex inquiries in real-time, enhancing user satisfaction. The potential is limitless! Explore AutoGen and see how its groundbreaking capabilities are transforming workflows and unlocking creative solutions that redefine what's possible in technology today!\", type='TextMessage'), TextMessage(source='SEO_reviewer', models_usage=RequestUsage(prompt_tokens=216, completion_tokens=134), content='As an SEO reviewer, here are my suggestions for optimizing your blog post about the AutoGen agents framework:\\n\\n- **Keyword Optimization:** Incorporate primary keywords like \"AutoGen agents,\" \"AI innovation,\" and \"autonomous agents\" naturally throughout the post to improve search visibility.\\n- **Engaging Headers:** Use a compelling H2 or H3 heading to break up the text and include keywords (e.g., “What is the AutoGen Agents Framework?”), which can enhance readability and SEO.\\n- **Call to Action:** Add a clear call to action at the end, urging readers to learn more or share their thoughts, which can increase engagement and potentially boost rankings.', type='TextMessage'), TextMessage(source='Legal_Reviewer', models_usage=RequestUsage(prompt_tokens=356, completion_tokens=126), content='As a legal reviewer, here are my suggestions to ensure legal compliance for your blog post about the AutoGen agents framework:\\n\\n- **Attributions:** If you mention any specific technologies or proprietary information related to AutoGen agents, ensure that you have the right to use that content and provide appropriate attributions if necessary.\\n- **Non-Disparagement:** Avoid making any claims about competitors or existing technologies that could be considered disparaging or misleading, as this could lead to defamation concerns.\\n- **Intellectual Property:** Ensure that the name \"AutoGen\" is not trademarked in your use to avoid any potential trademark infringement issues.', type='TextMessage'), TextMessage(source='Ethics_Reviewer', models_usage=RequestUsage(prompt_tokens=490, completion_tokens=119), content='As an ethics reviewer, here are my suggestions to ensure the blog post about the AutoGen agents framework maintains ethical integrity:\\n\\n- **Transparency:** Clearly indicate any potential biases or affiliations with the AutoGen technology to ensure readers can assess the reliability of the content.\\n- **Inclusivity:** Ensure the language used is accessible and does not alienate any specific group; aim for a broad audience to foster inclusiveness in tech discussions.\\n- **Balanced Perspective:** Present both the benefits and potential challenges or ethical concerns surrounding the use of AutoGen agents to provide a well-rounded view, promoting informed consent among readers.', type='TextMessage'), TextMessage(source='critic', models_usage=RequestUsage(prompt_tokens=460, completion_tokens=347), content='Here are some suggestions for optimizing your blog post about the AutoGen agents framework, while ensuring legal compliance and maintaining ethical integrity:\\n\\n### SEO Optimization\\n- **Keyword Optimization:** Naturally incorporate primary keywords such as \"AutoGen agents,\" \"AI innovation,\" and \"autonomous agents\" throughout the post to enhance search visibility.\\n- **Engaging Headers:** Use compelling H2 or H3 headings to break up the text. For example, “What is the AutoGen Agents Framework?” can enhance readability and be SEO-friendly.\\n- **Call to Action:** Include a clear call to action at the end of the post, encouraging readers to learn more or share their thoughts, which can increase engagement and potentially improve rankings.\\n\\n### Legal Compliance\\n- **Attributions:** Ensure you have the right to use any specific technologies or proprietary information related to AutoGen agents and provide appropriate attributions.\\n- **Non-Disparagement:** Avoid making claims about competitors or technologies that could be seen as disparaging or misleading to mitigate defamation risks.\\n- **Intellectual Property:** Verify that the name \"AutoGen\" is not trademarked in your usage to avoid trademark infringement issues.\\n\\n### Ethical Integrity\\n- **Transparency:** Clearly disclose any potential biases or affiliations with AutoGen technology, allowing readers to assess the content\\'s reliability.\\n- **Inclusivity:** Use accessible language, ensuring that the content does not alienate any specific group, thus fostering inclusiveness in technology conversations.\\n- **Balanced Perspective:** Present both the benefits and the potential challenges or ethical concerns regarding AutoGen agents, promoting a well-rounded view and informed consent among your readers. \\n\\nBy integrating these suggestions, you can create a comprehensive, engaging, and responsible blog post about the AutoGen agents framework.', type='TextMessage'), TextMessage(source='Writer', models_usage=RequestUsage(prompt_tokens=1194, completion_tokens=119), content='**Unlocking AI Potential with AutoGen Agents Framework**\\n\\nWhat is the AutoGen agents framework, and how is it shaping the future of AI innovation? This groundbreaking technology empowers autonomous agents to generate content and solve complex tasks independently. By collaborating and adapting, these agents work efficiently across various industries, from enhancing customer service to streamlining creative processes.\\n\\nFor example, AutoGen agents can analyze customer inquiries in real-time, significantly improving response accuracy and user satisfaction. The possibilities are vast! Curious to learn more? Explore case studies and discover how AutoGen is redefining workflows and unlocking new creative solutions today!', type='TextMessage')], stop_reason='Maximum number of messages 7 reached, current message count: 7')"
      ]
     },
     "execution_count": 32,
     "metadata": {},
     "output_type": "execute_result"
    }
   ],
   "source": [
    "# The termination condition is a combination of text termination and max message termination, either of which will cause the chat to terminate.\n",
    "termination = TextMentionTermination(\"TERMINATE\") | MaxMessageTermination(7)\n",
    "\n",
    "# The group chat will alternate between the assistant and the code executor.\n",
    "group_chat = RoundRobinGroupChat([writer, critic], termination_condition=termination)\n",
    "\n",
    "# `run_stream` returns an async generator to stream the intermediate messages.\n",
    "stream = group_chat.run_stream(task=task)\n",
    "# `Console` is a simple UI to display the stream.\n",
    "await Console(stream)"
   ]
  }
 ],
 "metadata": {
  "kernelspec": {
   "display_name": "autogen_env",
   "language": "python",
   "name": "python3"
  },
  "language_info": {
   "codemirror_mode": {
    "name": "ipython",
    "version": 3
   },
   "file_extension": ".py",
   "mimetype": "text/x-python",
   "name": "python",
   "nbconvert_exporter": "python",
   "pygments_lexer": "ipython3",
   "version": "3.11.11"
  }
 },
 "nbformat": 4,
 "nbformat_minor": 2
}
